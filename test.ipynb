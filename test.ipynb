{
 "cells": [
  {
   "cell_type": "code",
   "execution_count": 1,
   "metadata": {},
   "outputs": [
    {
     "name": "stderr",
     "output_type": "stream",
     "text": [
      "/tmp/ipykernel_55220/4080736814.py:1: DeprecationWarning: \n",
      "Pyarrow will become a required dependency of pandas in the next major release of pandas (pandas 3.0),\n",
      "(to allow more performant data types, such as the Arrow string type, and better interoperability with other libraries)\n",
      "but was not found to be installed on your system.\n",
      "If this would cause problems for you,\n",
      "please provide us feedback at https://github.com/pandas-dev/pandas/issues/54466\n",
      "        \n",
      "  import pandas as pd\n"
     ]
    }
   ],
   "source": [
    "import pandas as pd"
   ]
  },
  {
   "cell_type": "code",
   "execution_count": 2,
   "metadata": {},
   "outputs": [],
   "source": [
    "df_140405 = pd.read_csv('data/140405-vanston-ground-only.csv')\n",
    "df_140420 = pd.read_csv('data/140420-vanston-ground-only.csv')"
   ]
  },
  {
   "cell_type": "code",
   "execution_count": 6,
   "metadata": {},
   "outputs": [
    {
     "data": {
      "text/plain": [
       "(           X           Y     Z  fid   Z.1\n",
       " 0  714254.40  4543472.57  0.21    1  0.21\n",
       " 1  714251.02  4543466.29  0.47    2  0.47\n",
       " 2  714243.53  4543476.75  0.39    3  0.39\n",
       " 3  714230.43  4543491.25  0.98    4  0.98\n",
       " 4  714223.72  4543497.76  1.26    5  1.26,\n",
       " array([[ 7.14254400e+05,  4.54347257e+06,  2.10000000e-01,\n",
       "          1.00000000e+00,  2.10000000e-01],\n",
       "        [ 7.14251020e+05,  4.54346629e+06,  4.70000000e-01,\n",
       "          2.00000000e+00,  4.70000000e-01],\n",
       "        [ 7.14243530e+05,  4.54347675e+06,  3.90000000e-01,\n",
       "          3.00000000e+00,  3.90000000e-01],\n",
       "        ...,\n",
       "        [ 7.14872300e+05,  4.54293693e+06, -3.60000000e-01,\n",
       "          1.35341700e+06, -3.60000000e-01],\n",
       "        [ 7.14873220e+05,  4.54293498e+06, -4.00000000e-01,\n",
       "          1.35341800e+06, -4.00000000e-01],\n",
       "        [ 7.14873680e+05,  4.54293400e+06, -3.60000000e-01,\n",
       "          1.35341900e+06, -3.60000000e-01]]))"
      ]
     },
     "execution_count": 6,
     "metadata": {},
     "output_type": "execute_result"
    }
   ],
   "source": [
    "df_140420.head()"
   ]
  },
  {
   "cell_type": "code",
   "execution_count": 5,
   "metadata": {},
   "outputs": [
    {
     "data": {
      "text/html": [
       "<div>\n",
       "<style scoped>\n",
       "    .dataframe tbody tr th:only-of-type {\n",
       "        vertical-align: middle;\n",
       "    }\n",
       "\n",
       "    .dataframe tbody tr th {\n",
       "        vertical-align: top;\n",
       "    }\n",
       "\n",
       "    .dataframe thead th {\n",
       "        text-align: right;\n",
       "    }\n",
       "</style>\n",
       "<table border=\"1\" class=\"dataframe\">\n",
       "  <thead>\n",
       "    <tr style=\"text-align: right;\">\n",
       "      <th></th>\n",
       "      <th>X</th>\n",
       "      <th>Y</th>\n",
       "      <th>Z</th>\n",
       "      <th>fid</th>\n",
       "      <th>Z.1</th>\n",
       "    </tr>\n",
       "  </thead>\n",
       "  <tbody>\n",
       "    <tr>\n",
       "      <th>0</th>\n",
       "      <td>714254.40</td>\n",
       "      <td>4543472.57</td>\n",
       "      <td>0.21</td>\n",
       "      <td>1</td>\n",
       "      <td>0.21</td>\n",
       "    </tr>\n",
       "    <tr>\n",
       "      <th>1</th>\n",
       "      <td>714251.02</td>\n",
       "      <td>4543466.29</td>\n",
       "      <td>0.47</td>\n",
       "      <td>2</td>\n",
       "      <td>0.47</td>\n",
       "    </tr>\n",
       "    <tr>\n",
       "      <th>2</th>\n",
       "      <td>714243.53</td>\n",
       "      <td>4543476.75</td>\n",
       "      <td>0.39</td>\n",
       "      <td>3</td>\n",
       "      <td>0.39</td>\n",
       "    </tr>\n",
       "    <tr>\n",
       "      <th>3</th>\n",
       "      <td>714230.43</td>\n",
       "      <td>4543491.25</td>\n",
       "      <td>0.98</td>\n",
       "      <td>4</td>\n",
       "      <td>0.98</td>\n",
       "    </tr>\n",
       "    <tr>\n",
       "      <th>4</th>\n",
       "      <td>714223.72</td>\n",
       "      <td>4543497.76</td>\n",
       "      <td>1.26</td>\n",
       "      <td>5</td>\n",
       "      <td>1.26</td>\n",
       "    </tr>\n",
       "  </tbody>\n",
       "</table>\n",
       "</div>"
      ],
      "text/plain": [
       "           X           Y     Z  fid   Z.1\n",
       "0  714254.40  4543472.57  0.21    1  0.21\n",
       "1  714251.02  4543466.29  0.47    2  0.47\n",
       "2  714243.53  4543476.75  0.39    3  0.39\n",
       "3  714230.43  4543491.25  0.98    4  0.98\n",
       "4  714223.72  4543497.76  1.26    5  1.26"
      ]
     },
     "execution_count": 5,
     "metadata": {},
     "output_type": "execute_result"
    }
   ],
   "source": [
    "df_140420.head()"
   ]
  },
  {
   "cell_type": "code",
   "execution_count": 13,
   "metadata": {},
   "outputs": [
    {
     "data": {
      "text/plain": [
       "10928355"
      ]
     },
     "execution_count": 13,
     "metadata": {},
     "output_type": "execute_result"
    }
   ],
   "source": [
    "df_140405.size + df_140420.size"
   ]
  },
  {
   "cell_type": "code",
   "execution_count": 8,
   "metadata": {},
   "outputs": [],
   "source": [
    "df = df_140405.merge(df_140420, how=\"outer\")"
   ]
  },
  {
   "cell_type": "code",
   "execution_count": 12,
   "metadata": {},
   "outputs": [
    {
     "data": {
      "text/html": [
       "<div>\n",
       "<style scoped>\n",
       "    .dataframe tbody tr th:only-of-type {\n",
       "        vertical-align: middle;\n",
       "    }\n",
       "\n",
       "    .dataframe tbody tr th {\n",
       "        vertical-align: top;\n",
       "    }\n",
       "\n",
       "    .dataframe thead th {\n",
       "        text-align: right;\n",
       "    }\n",
       "</style>\n",
       "<table border=\"1\" class=\"dataframe\">\n",
       "  <thead>\n",
       "    <tr style=\"text-align: right;\">\n",
       "      <th></th>\n",
       "      <th>X</th>\n",
       "      <th>Y</th>\n",
       "      <th>Z</th>\n",
       "      <th>fid</th>\n",
       "      <th>Z.1</th>\n",
       "    </tr>\n",
       "  </thead>\n",
       "  <tbody>\n",
       "    <tr>\n",
       "      <th>0</th>\n",
       "      <td>714000.0</td>\n",
       "      <td>4541991.76</td>\n",
       "      <td>0.44</td>\n",
       "      <td>243906</td>\n",
       "      <td>0.44</td>\n",
       "    </tr>\n",
       "    <tr>\n",
       "      <th>1</th>\n",
       "      <td>714000.0</td>\n",
       "      <td>4542005.14</td>\n",
       "      <td>1.15</td>\n",
       "      <td>584645</td>\n",
       "      <td>1.15</td>\n",
       "    </tr>\n",
       "    <tr>\n",
       "      <th>2</th>\n",
       "      <td>714000.0</td>\n",
       "      <td>4542077.60</td>\n",
       "      <td>0.22</td>\n",
       "      <td>583284</td>\n",
       "      <td>0.22</td>\n",
       "    </tr>\n",
       "    <tr>\n",
       "      <th>3</th>\n",
       "      <td>714000.0</td>\n",
       "      <td>4542118.71</td>\n",
       "      <td>0.20</td>\n",
       "      <td>599823</td>\n",
       "      <td>0.20</td>\n",
       "    </tr>\n",
       "    <tr>\n",
       "      <th>4</th>\n",
       "      <td>714000.0</td>\n",
       "      <td>4542638.36</td>\n",
       "      <td>3.39</td>\n",
       "      <td>780279</td>\n",
       "      <td>3.39</td>\n",
       "    </tr>\n",
       "  </tbody>\n",
       "</table>\n",
       "</div>"
      ],
      "text/plain": [
       "          X           Y     Z     fid   Z.1\n",
       "0  714000.0  4541991.76  0.44  243906  0.44\n",
       "1  714000.0  4542005.14  1.15  584645  1.15\n",
       "2  714000.0  4542077.60  0.22  583284  0.22\n",
       "3  714000.0  4542118.71  0.20  599823  0.20\n",
       "4  714000.0  4542638.36  3.39  780279  3.39"
      ]
     },
     "execution_count": 12,
     "metadata": {},
     "output_type": "execute_result"
    }
   ],
   "source": [
    "df.head()"
   ]
  },
  {
   "cell_type": "code",
   "execution_count": 14,
   "metadata": {},
   "outputs": [
    {
     "data": {
      "text/plain": [
       "10928355"
      ]
     },
     "execution_count": 14,
     "metadata": {},
     "output_type": "execute_result"
    }
   ],
   "source": [
    "df.size"
   ]
  },
  {
   "cell_type": "code",
   "execution_count": 15,
   "metadata": {},
   "outputs": [],
   "source": [
    "df.drop(columns=['fid', 'Z.1'], inplace=True)"
   ]
  },
  {
   "cell_type": "code",
   "execution_count": 16,
   "metadata": {},
   "outputs": [
    {
     "data": {
      "text/plain": [
       "<bound method DataFrame.drop of                  X           Y     Z\n",
       "0        714000.00  4541991.76  0.44\n",
       "1        714000.00  4542005.14  1.15\n",
       "2        714000.00  4542077.60  0.22\n",
       "3        714000.00  4542118.71  0.20\n",
       "4        714000.00  4542638.36  3.39\n",
       "...            ...         ...   ...\n",
       "2185666  715499.98  4541122.32  9.40\n",
       "2185667  715499.98  4541149.40  8.57\n",
       "2185668  715499.98  4541202.05  9.44\n",
       "2185669  715499.98  4541264.30  6.64\n",
       "2185670  715499.98  4541333.31  4.93\n",
       "\n",
       "[2185671 rows x 3 columns]>"
      ]
     },
     "execution_count": 16,
     "metadata": {},
     "output_type": "execute_result"
    }
   ],
   "source": [
    "df.drop"
   ]
  },
  {
   "cell_type": "code",
   "execution_count": 17,
   "metadata": {},
   "outputs": [],
   "source": [
    "df_x_range = df[\"X\"].max() - df[\"X\"].min()\n",
    "df_x_sub = df[\"X\"].max() - df_x_range"
   ]
  },
  {
   "cell_type": "code",
   "execution_count": 18,
   "metadata": {},
   "outputs": [
    {
     "data": {
      "text/plain": [
       "714000.0"
      ]
     },
     "execution_count": 18,
     "metadata": {},
     "output_type": "execute_result"
    }
   ],
   "source": [
    "df_x_sub"
   ]
  },
  {
   "cell_type": "code",
   "execution_count": 19,
   "metadata": {},
   "outputs": [],
   "source": [
    "df_y_range = df['Y'].max() - df[\"Y\"].min()\n",
    "df_y_sub = df['Y'].max() - df_y_range"
   ]
  },
  {
   "cell_type": "code",
   "execution_count": 20,
   "metadata": {},
   "outputs": [],
   "source": [
    "df['X'] = df['X'].apply(lambda x: x - df_x_sub)\n",
    "df['Y'] = df['Y'].apply(lambda y: y - df_y_sub)"
   ]
  },
  {
   "cell_type": "code",
   "execution_count": 21,
   "metadata": {},
   "outputs": [
    {
     "data": {
      "text/plain": [
       "(0.0, 0.0, 1499.9799999999814, 2691.4700000006706)"
      ]
     },
     "execution_count": 21,
     "metadata": {},
     "output_type": "execute_result"
    }
   ],
   "source": [
    "df['X'].min(), df['Y'].min(), df['X'].max(), df['Y'].max()"
   ]
  },
  {
   "cell_type": "code",
   "execution_count": 22,
   "metadata": {},
   "outputs": [],
   "source": [
    "df.to_csv('with_header.csv', index=None)"
   ]
  },
  {
   "cell_type": "code",
   "execution_count": 23,
   "metadata": {},
   "outputs": [],
   "source": [
    "df.to_csv('without_header.csv', index=None, header=None)"
   ]
  },
  {
   "cell_type": "code",
   "execution_count": null,
   "metadata": {},
   "outputs": [],
   "source": []
  }
 ],
 "metadata": {
  "kernelspec": {
   "display_name": ".venv",
   "language": "python",
   "name": "python3"
  },
  "language_info": {
   "codemirror_mode": {
    "name": "ipython",
    "version": 3
   },
   "file_extension": ".py",
   "mimetype": "text/x-python",
   "name": "python",
   "nbconvert_exporter": "python",
   "pygments_lexer": "ipython3",
   "version": "3.10.12"
  }
 },
 "nbformat": 4,
 "nbformat_minor": 2
}
